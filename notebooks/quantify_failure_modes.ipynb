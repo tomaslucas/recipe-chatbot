{
 "cells": [
  {
   "cell_type": "code",
   "execution_count": 39,
   "id": "5c7424da",
   "metadata": {},
   "outputs": [],
   "source": [
    "import pandas as pd\n",
    "import polars as pl\n",
    "\n",
    "def summarize_failure_modes(file_path: str, elements_to_sumarize: list[str], use_polars=False):\n",
    "    \"\"\"\n",
    "    Summarizes failure modes from a CSV file using either Polars or Pandas.\n",
    "    \n",
    "    Args:\n",
    "        file_path: Path to the CSV file\n",
    "        elements_to_sumarize: List of column names to summarize\n",
    "        use_polars: Whether to use Polars (True) or Pandas (False)\n",
    "        \n",
    "    Returns:\n",
    "        A list of tuples where each tuple contains (column_name, count_as_string)\n",
    "    \"\"\"\n",
    "    result = []\n",
    "    \n",
    "    if use_polars:\n",
    "        df = pl.read_csv(file_path)\n",
    "        for element in elements_to_sumarize:\n",
    "            count = df.filter(pl.col(element) == 1).select(pl.len()).item()\n",
    "            result.append((element, str(count)))\n",
    "    else:\n",
    "        df = pd.read_csv(file_path)\n",
    "        for element in elements_to_sumarize:\n",
    "            count = df[df[element] == 1].shape[0]\n",
    "            result.append((element, str(count)))\n",
    "    \n",
    "    return result"
   ]
  },
  {
   "cell_type": "code",
   "execution_count": null,
   "id": "da2396e1",
   "metadata": {},
   "outputs": [],
   "source": [
    "# Failure Mode Taxonomy for Synthetic Queries\n",
    "file = '../homeworks/my_hw2/synthetic_queries_for_analysis_es.csv'"
   ]
  },
  {
   "cell_type": "code",
   "execution_count": null,
   "id": "9cc18794",
   "metadata": {},
   "outputs": [],
   "source": [
    "# Failure Mode Taxonomy using Pandas\n",
    "sumary_pd = summarize_failure_modes(file, ['Localization_Errors', 'Incorrect_Assumption_Number_People'], use_polars=False)\n",
    "[print(f'{sumary[0]}:{sumary[1]}') for sumary in sumary_pd];"
   ]
  },
  {
   "cell_type": "code",
   "execution_count": null,
   "id": "7f9de05b",
   "metadata": {},
   "outputs": [],
   "source": [
    "# Failure Mode Taxonomy using Polars\n",
    "sumary_pl = summarize_failure_modes(file, ['Localization_Errors', 'Incorrect_Assumption_Number_People'], use_polars=True)\n",
    "[print(f'{sumary[0]}:{sumary[1]}') for sumary in sumary_pl];"
   ]
  },
  {
   "cell_type": "code",
   "execution_count": null,
   "id": "1b703aaf",
   "metadata": {},
   "outputs": [
    {
     "name": "stdout",
     "output_type": "stream",
     "text": [
      "Localization_Errors:10\n",
      "Incorrect_Assumption_Number_People:4\n",
      "Localization_Errors:10\n",
      "Incorrect_Assumption_Number_People:4\n"
     ]
    }
   ],
   "source": [
    "\n",
    "\n"
   ]
  },
  {
   "cell_type": "code",
   "execution_count": null,
   "id": "ea4e2436",
   "metadata": {},
   "outputs": [],
   "source": []
  }
 ],
 "metadata": {
  "kernelspec": {
   "display_name": ".venv",
   "language": "python",
   "name": "python3"
  },
  "language_info": {
   "codemirror_mode": {
    "name": "ipython",
    "version": 3
   },
   "file_extension": ".py",
   "mimetype": "text/x-python",
   "name": "python",
   "nbconvert_exporter": "python",
   "pygments_lexer": "ipython3",
   "version": "3.12.8"
  }
 },
 "nbformat": 4,
 "nbformat_minor": 5
}
