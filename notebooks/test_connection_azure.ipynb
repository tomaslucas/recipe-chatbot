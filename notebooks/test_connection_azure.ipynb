{
 "cells": [
  {
   "cell_type": "code",
   "execution_count": 14,
   "id": "3fd83034",
   "metadata": {},
   "outputs": [
    {
     "data": {
      "text/plain": [
       "True"
      ]
     },
     "execution_count": 14,
     "metadata": {},
     "output_type": "execute_result"
    }
   ],
   "source": [
    "import os\n",
    "from dotenv import load_dotenv\n",
    "load_dotenv(override=True)\n"
   ]
  },
  {
   "cell_type": "code",
   "execution_count": 10,
   "id": "13a4d1a7",
   "metadata": {},
   "outputs": [],
   "source": [
    "import litellm\n",
    "\n",
    "# azure call\n",
    "response = litellm.completion(\n",
    "    model = os.getenv(\"OPENAI_MODEL_NAME\"),             # model = azure/<your deployment name> \n",
    "    api_base = os.getenv(\"OPENAI_API_BASE\"),                                      # azure api base\n",
    "    api_version = os.getenv(\"OPENAI_API_VERSION\"),                                   # azure api version\n",
    "    api_key = os.getenv(\"OPENAI_API_KEY\"),                                       # azure api key\n",
    "    messages = [{\"role\": \"user\", \"content\": \"good morning\"}],\n",
    ")"
   ]
  },
  {
   "cell_type": "code",
   "execution_count": 11,
   "id": "35bebf11",
   "metadata": {},
   "outputs": [
    {
     "data": {
      "text/plain": [
       "ModelResponse(id='chatcmpl-BaeAYWiP5Dez54hYiedocO599XviE', created=1748073918, model='gpt-3.5-turbo-0125', object='chat.completion', system_fingerprint='fp_0165350fbb', choices=[Choices(finish_reason='stop', index=0, message=Message(content='Good morning! How can I assist you today?', role='assistant', tool_calls=None, function_call=None, provider_specific_fields={'refusal': None}))], usage=Usage(completion_tokens=10, prompt_tokens=9, total_tokens=19, completion_tokens_details=None, prompt_tokens_details=None), service_tier=None, prompt_filter_results=[{'prompt_index': 0, 'content_filter_results': {'hate': {'filtered': False, 'severity': 'safe'}, 'self_harm': {'filtered': False, 'severity': 'safe'}, 'sexual': {'filtered': False, 'severity': 'safe'}, 'violence': {'filtered': False, 'severity': 'safe'}}}])"
      ]
     },
     "execution_count": 11,
     "metadata": {},
     "output_type": "execute_result"
    }
   ],
   "source": [
    "response"
   ]
  },
  {
   "cell_type": "code",
   "execution_count": 16,
   "id": "4f047fbe",
   "metadata": {},
   "outputs": [],
   "source": [
    "import litellm\n",
    "\n",
    "# azure call\n",
    "response = litellm.completion(\n",
    "    model = os.getenv(\"MODEL_NAME\"),             # model = azure/<your deployment name> \n",
    "    api_base = os.getenv(\"AZURE_API_BASE\"),                                      # azure api base\n",
    "    api_version = os.getenv(\"AZURE_API_VERSION\"),                                   # azure api version\n",
    "    api_key = os.getenv(\"AZURE_API_KEY\"),                                       # azure api key\n",
    "    messages = [{\"role\": \"user\", \"content\": \"good morning\"}],\n",
    ")"
   ]
  },
  {
   "cell_type": "code",
   "execution_count": 17,
   "id": "c9802ea2",
   "metadata": {},
   "outputs": [
    {
     "data": {
      "text/plain": [
       "ModelResponse(id='chatcmpl-BaeDMVCqfNNz2teQn78gV1EZfeoWx', created=1748074092, model='gpt-4o-mini-2024-07-18', object='chat.completion', system_fingerprint='fp_ded0d14823', choices=[Choices(finish_reason='stop', index=0, message=Message(content='Good morning! How can I assist you today?', role='assistant', tool_calls=None, function_call=None, provider_specific_fields={'refusal': None}, annotations=[]))], usage=Usage(completion_tokens=11, prompt_tokens=9, total_tokens=20, completion_tokens_details=CompletionTokensDetailsWrapper(accepted_prediction_tokens=0, audio_tokens=0, reasoning_tokens=0, rejected_prediction_tokens=0, text_tokens=None), prompt_tokens_details=PromptTokensDetailsWrapper(audio_tokens=0, cached_tokens=0, text_tokens=None, image_tokens=None)), service_tier=None, prompt_filter_results=[{'prompt_index': 0, 'content_filter_results': {'hate': {'filtered': False, 'severity': 'safe'}, 'jailbreak': {'filtered': False, 'detected': False}, 'self_harm': {'filtered': False, 'severity': 'safe'}, 'sexual': {'filtered': False, 'severity': 'safe'}, 'violence': {'filtered': False, 'severity': 'safe'}}}])"
      ]
     },
     "execution_count": 17,
     "metadata": {},
     "output_type": "execute_result"
    }
   ],
   "source": [
    "response"
   ]
  }
 ],
 "metadata": {
  "kernelspec": {
   "display_name": ".venv",
   "language": "python",
   "name": "python3"
  },
  "language_info": {
   "codemirror_mode": {
    "name": "ipython",
    "version": 3
   },
   "file_extension": ".py",
   "mimetype": "text/x-python",
   "name": "python",
   "nbconvert_exporter": "python",
   "pygments_lexer": "ipython3",
   "version": "3.12.8"
  }
 },
 "nbformat": 4,
 "nbformat_minor": 5
}
